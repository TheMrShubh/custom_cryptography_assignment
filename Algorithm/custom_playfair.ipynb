{
 "cells": [
  {
   "cell_type": "code",
   "execution_count": 24,
   "metadata": {},
   "outputs": [],
   "source": [
    "import math"
   ]
  },
  {
   "cell_type": "code",
   "execution_count": 25,
   "metadata": {},
   "outputs": [],
   "source": [
    "BASE_KEY = '483251'\n",
    "\n",
    "BASE_MATRIX = [['A','B','C','D','E'],\n",
    "               ['F','G','H','I','K'],\n",
    "               ['L','M','N','O','P'],\n",
    "               ['Q','R','S','T','U'],\n",
    "               ['V','W','X','Y','Z'],]"
   ]
  },
  {
   "cell_type": "code",
   "execution_count": 26,
   "metadata": {},
   "outputs": [],
   "source": [
    "def check_unique_key(key):\n",
    "    check = dict()\n",
    "    key = list(key)\n",
    "    for number in key:\n",
    "        check[number] = 0\n",
    "    for number in key:\n",
    "        check[number] = check[number] + 1\n",
    "    for number in key:\n",
    "        if check[number]>1:\n",
    "            #print(check)\n",
    "            return False\n",
    "    return True"
   ]
  },
  {
   "cell_type": "code",
   "execution_count": 27,
   "metadata": {},
   "outputs": [],
   "source": [
    "def gen_key(key):\n",
    "    key = str(int(int(key)/10))\n",
    "    while(check_unique_key(key)==False):\n",
    "        num = int(key)\n",
    "        key = str(num*num)[:5]\n",
    "    return key"
   ]
  },
  {
   "cell_type": "code",
   "execution_count": 28,
   "metadata": {},
   "outputs": [],
   "source": [
    "def get_matrix(matrix, key):\n",
    "    key_ascd = sorted(key)\n",
    "\n",
    "    key_index = []\n",
    "    for num in key:\n",
    "        index = key_ascd.index(num)\n",
    "        key_index.append(str(index))\n",
    "    #print(\"Indexed Key Generated..\")\n",
    "    \n",
    "    it_matrix = list()\n",
    "    for row in matrix:\n",
    "        new_row = []\n",
    "        for ind in key_index:\n",
    "            new_row.append(row[int(ind)])\n",
    "        it_matrix.append(new_row)\n",
    "    #print(\"Intermediate Matrix Generated..\")\n",
    "    \n",
    "    final_matrix = []\n",
    "    for ind in key_index:\n",
    "        final_matrix.append(it_matrix[int(ind)])\n",
    "    \n",
    "    return final_matrix"
   ]
  },
  {
   "cell_type": "code",
   "execution_count": null,
   "metadata": {},
   "outputs": [],
   "source": [
    "get_matrix(BASE_MATRIX,gen_key(BASE_KEY))"
   ]
  },
  {
   "cell_type": "code",
   "execution_count": 29,
   "metadata": {},
   "outputs": [],
   "source": [
    "def encrypt(matrix, pt):#pt length must be 2 and a list\n",
    "    #print(pt)\n",
    "    for i in matrix:\n",
    "        #print(i)\n",
    "        if pt[0] in i:\n",
    "            row1 = matrix.index(i)\n",
    "            col1 = i.index(pt[0])\n",
    "        if pt[1] in i:\n",
    "            row2 = matrix.index(i)\n",
    "            col2 = i.index(pt[1])\n",
    "    #print(row1,col1,row2,col2)\n",
    "    \n",
    "    #same row occurance\n",
    "    if row1 == row2:\n",
    "        if col1 == 4 and col2 != 4:\n",
    "            ct = matrix[row1][0]+matrix[row1][col2+1]\n",
    "        elif col1 != 4 and col2 == 4:\n",
    "            ct = matrix[row1][col1+1]+matrix[row1][0]\n",
    "        elif col1 == 4 and col2 == 4:\n",
    "            ct = matrix[row1][0]+matrix[row1][0]\n",
    "        else:\n",
    "            ct = matrix[row1][col1+1]+matrix[row1][col2+1]\n",
    "    \n",
    "    #same column occurance\n",
    "    elif col1 == col2:\n",
    "        if row1 == 4 and row2 != 4:\n",
    "            ct = matrix[0][col1]+matrix[row2+1][col1]\n",
    "        elif row1 != 4 and row2 == 4:\n",
    "            ct = matrix[row1+1][col1]+matrix[0][col1]\n",
    "        elif row1 == 4 and row2 == 4:\n",
    "            ct = matrix[0][col1]+matrix[0][col1]\n",
    "        else:\n",
    "            ct = matrix[row1+1][col1]+matrix[row1+1][col2]\n",
    "\n",
    "    #corners of the rectangle\n",
    "    else:\n",
    "        ct = matrix[row1][col2] + matrix[row2][col1] \n",
    "    return ct"
   ]
  },
  {
   "cell_type": "code",
   "execution_count": null,
   "metadata": {},
   "outputs": [],
   "source": [
    "encrypt(get_matrix(BASE_MATRIX,gen_key(BASE_KEY)),['Q','T'])"
   ]
  },
  {
   "cell_type": "code",
   "execution_count": 30,
   "metadata": {},
   "outputs": [
    {
     "name": "stdout",
     "output_type": "stream",
     "text": [
      "The final encrypted text is  [['KC', 'DT', 'LB', 'SC']]\n"
     ]
    }
   ],
   "source": [
    "#demo encryption\n",
    "\n",
    "pt = \"HEYO MAN\"\n",
    "pt = list(pt.replace(\" \",\"\"))\n",
    "\n",
    "key = BASE_KEY\n",
    "matrix = BASE_MATRIX\n",
    "\n",
    "if len(pt)%2 != 0:\n",
    "    pt.append('X')\n",
    "\n",
    "init_blocks = list()\n",
    "index = 0\n",
    "\n",
    "for i in list(range(int(len(pt)/2))):\n",
    "    block = pt[index:index+2]\n",
    "    index = index + 2\n",
    "    init_blocks.append(block)\n",
    "\n",
    "index = 0\n",
    "blocks = []\n",
    "for i in list(range(int(len(init_blocks)/10) + 1)):\n",
    "    block = init_blocks[index:index + 10]\n",
    "    index = index + 10\n",
    "    blocks.append(block)\n",
    "\n",
    "#print(blocks)\n",
    "final_ct = []\n",
    "for main_block in blocks:\n",
    "    #print(main_block)\n",
    "    ct = []\n",
    "    for block in main_block:\n",
    "        #print(block)\n",
    "        ct.append(encrypt(matrix,block))\n",
    "    final_ct.append(ct)\n",
    "    key = gen_key(str(int(key)*int(key))[:5])\n",
    "    matrix = get_matrix(matrix, key)\n",
    "\n",
    "print(\"The final encrypted text is \", final_ct)"
   ]
  },
  {
   "cell_type": "code",
   "execution_count": 31,
   "metadata": {},
   "outputs": [],
   "source": [
    "def decrypt(matrix, ct):\n",
    "    for i in matrix:\n",
    "        #print(i)\n",
    "        if ct[0] in i:\n",
    "            row1 = matrix.index(i)\n",
    "            col1 = i.index(ct[0])\n",
    "        if ct[1] in i:\n",
    "            row2 = matrix.index(i)\n",
    "            col2 = i.index(ct[1])\n",
    "    \n",
    "    #same row occurance\n",
    "    if row1 == row2:\n",
    "        if col1 == 0 and col2 != 0:\n",
    "            ct = matrix[row1][4]+matrix[row1][col2-1]\n",
    "        elif col1 != 0 and col2 == 0:\n",
    "            ct = matrix[row1][col1-1]+matrix[row1][4]\n",
    "        elif col1 == 0 and col2 == 0:\n",
    "            ct = matrix[row1][4]+matrix[row1][4]\n",
    "        else:\n",
    "            ct = matrix[row1][col1-1]+matrix[row1][col2-1]\n",
    "    \n",
    "    #same column occurance\n",
    "    elif col1 == col2:\n",
    "        if row1 == 0 and row2 != 0:\n",
    "            ct = matrix[4][col1]+matrix[row2-1][col1]\n",
    "        elif row1 != 0 and row2 == 0:\n",
    "            ct = matrix[row1-1][col1]+matrix[4][col1]\n",
    "        elif row1 == 0 and row2 == 0:\n",
    "            ct = matrix[4][col1]+matrix[4][col1]\n",
    "        else:\n",
    "            ct = matrix[row1-1][col1]+matrix[row1-1][col2]\n",
    "            \n",
    "    #corners of the rectangle\n",
    "    else:\n",
    "        ct = matrix[row1][col2] + matrix[row2][col1] \n",
    "    return ct"
   ]
  },
  {
   "cell_type": "code",
   "execution_count": 32,
   "metadata": {},
   "outputs": [
    {
     "name": "stdout",
     "output_type": "stream",
     "text": [
      "The final decrypted text is  [['HE', 'YO', 'MA', 'NX']]\n"
     ]
    }
   ],
   "source": [
    "#demo decrypt\n",
    "\n",
    "key = BASE_KEY\n",
    "matrix = BASE_MATRIX\n",
    "\n",
    "decrypted_pt = []\n",
    "for main_block in final_ct:\n",
    "    #print(main_block)\n",
    "    temp_pt = []\n",
    "    for block in main_block:\n",
    "        #print(block)\n",
    "        temp_pt.append(decrypt(matrix,block))\n",
    "    decrypted_pt.append(temp_pt)\n",
    "    key = gen_key(str(int(key)*int(key))[:5])\n",
    "    matrix = get_matrix(matrix, key)\n",
    "\n",
    "print(\"The final decrypted text is \",decrypted_pt)\n",
    "\n"
   ]
  },
  {
   "cell_type": "code",
   "execution_count": null,
   "metadata": {},
   "outputs": [],
   "source": []
  }
 ],
 "metadata": {
  "kernelspec": {
   "display_name": "Python 3",
   "language": "python",
   "name": "python3"
  },
  "language_info": {
   "codemirror_mode": {
    "name": "ipython",
    "version": 3
   },
   "file_extension": ".py",
   "mimetype": "text/x-python",
   "name": "python",
   "nbconvert_exporter": "python",
   "pygments_lexer": "ipython3",
   "version": "3.7.1"
  }
 },
 "nbformat": 4,
 "nbformat_minor": 2
}
